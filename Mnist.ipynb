{
  "nbformat": 4,
  "nbformat_minor": 0,
  "metadata": {
    "colab": {
      "name": "Mnist.ipynb",
      "provenance": []
    },
    "kernelspec": {
      "name": "python3",
      "display_name": "Python 3"
    },
    "language_info": {
      "name": "python"
    }
  },
  "cells": [
    {
      "cell_type": "code",
      "metadata": {
        "id": "CTBwgFmN3QhI"
      },
      "source": [
        "import tensorflow as tf\n",
        "import numpy as np\n",
        "import pandas as pd\n",
        "from keras.datasets import mnist\n",
        "from tensorflow.keras.layers import Layer\n",
        "import matplotlib.pyplot as plt\n",
        "from tensorflow.keras.losses import Loss"
      ],
      "execution_count": null,
      "outputs": []
    },
    {
      "cell_type": "code",
      "metadata": {
        "id": "25Q1RTBXHDhE"
      },
      "source": [
        "class SimpleQuadratic(Layer):\n",
        "  \n",
        "    def __init__(self,units=32, activation=None):\n",
        "      super(SimpleQuadratic, self).__init__()\n",
        "      self.units=units\n",
        "      self.activation=tf.keras.activations.get(activation)\n",
        "    def build(self,input_shape):\n",
        "      a = tf.random_normal_initializer()\n",
        "      self.a=tf.Variable(name=\"kernel\",initial_value=a(shape=(input_shape[-1], self.units),dtype='float32'),trainable=True)  \n",
        "      b=tf.random_normal_initializer()\n",
        "      self.b=tf.Variable(name='kernel',initial_value=b(shape=(input_shape[-1], self.units),dtype='float32'),trainable=True)\n",
        "      c=tf.random_normal_initializer()\n",
        "      self.c = tf.Variable(name=\"bias\",initial_value=c(shape=(self.units,), dtype='float32'),trainable=True)\n",
        "    def call(self, inputs):\n",
        "       return self.activation(tf.matmul(tf.math.square(inputs),self.a)+tf.matmul(inputs,self.b)+self.c)"
      ],
      "execution_count": null,
      "outputs": []
    },
    {
      "cell_type": "code",
      "metadata": {
        "id": "kiUh9zJT3Y9c"
      },
      "source": [
        "(x_train, y_train),(x_test, y_test) = mnist.load_data()\n",
        "x_train, x_test = x_train / 255.0, x_test / 255.0\n",
        "x_train.shape()\n",
        "x_train=tf.expand_dims(x_train,axis=-1)\n",
        "x_test=tf.expand_dims(x_test,axis=-1)"
      ],
      "execution_count": null,
      "outputs": []
    },
    {
      "cell_type": "code",
      "metadata": {
        "colab": {
          "base_uri": "https://localhost:8080/"
        },
        "id": "BN96MPGsLGqh",
        "outputId": "ec5ccd11-983a-475e-a6c9-87ae93eb6e0f"
      },
      "source": [
        "model = tf.keras.models.Sequential([\n",
        "    tf.keras.layers.Conv2D(32,(3,3),input_shape=(28, 28,1),activation='relu'),\n",
        "    tf.keras.layers.MaxPool2D(pool_size=(2, 2)),\n",
        "    tf.keras.layers.Conv2D(16,(3,3),input_shape=(28, 28,1),activation='relu'),\n",
        "    tf.keras.layers.MaxPool2D(pool_size=(2, 2)),\n",
        "    tf.keras.layers.Flatten(),\n",
        "    SimpleQuadratic(128, activation='relu'),\n",
        "    tf.keras.layers.Dropout(0.2),\n",
        "    tf.keras.layers.Dense(10, activation='softmax')\n",
        "])\n",
        "\n",
        "model.compile(optimizer='adam',\n",
        "              loss='sparse_categorical_crossentropy',\n",
        "              metrics=['accuracy'])\n",
        "\n",
        "history=model.fit(x_train, y_train, epochs=10,validation_data=(x_test,y_test))\n"
      ],
      "execution_count": null,
      "outputs": [
        {
          "output_type": "stream",
          "name": "stdout",
          "text": [
            "Epoch 1/10\n",
            "1875/1875 [==============================] - 41s 22ms/step - loss: 0.1661 - accuracy: 0.9491 - val_loss: 0.0474 - val_accuracy: 0.9845\n",
            "Epoch 2/10\n",
            "1875/1875 [==============================] - 40s 21ms/step - loss: 0.0595 - accuracy: 0.9816 - val_loss: 0.0356 - val_accuracy: 0.9873\n",
            "Epoch 3/10\n",
            "1875/1875 [==============================] - 40s 21ms/step - loss: 0.0442 - accuracy: 0.9857 - val_loss: 0.0336 - val_accuracy: 0.9899\n",
            "Epoch 4/10\n",
            "1875/1875 [==============================] - 40s 21ms/step - loss: 0.0335 - accuracy: 0.9891 - val_loss: 0.0274 - val_accuracy: 0.9909\n",
            "Epoch 5/10\n",
            "1875/1875 [==============================] - 40s 21ms/step - loss: 0.0295 - accuracy: 0.9903 - val_loss: 0.0346 - val_accuracy: 0.9894\n",
            "Epoch 6/10\n",
            "1875/1875 [==============================] - 40s 21ms/step - loss: 0.0245 - accuracy: 0.9923 - val_loss: 0.0263 - val_accuracy: 0.9917\n",
            "Epoch 7/10\n",
            "1875/1875 [==============================] - 40s 21ms/step - loss: 0.0210 - accuracy: 0.9933 - val_loss: 0.0296 - val_accuracy: 0.9915\n",
            "Epoch 8/10\n",
            "1875/1875 [==============================] - 40s 21ms/step - loss: 0.0176 - accuracy: 0.9940 - val_loss: 0.0368 - val_accuracy: 0.9898\n",
            "Epoch 9/10\n",
            "1875/1875 [==============================] - 40s 21ms/step - loss: 0.0171 - accuracy: 0.9945 - val_loss: 0.0306 - val_accuracy: 0.9911\n",
            "Epoch 10/10\n",
            "1875/1875 [==============================] - 40s 21ms/step - loss: 0.0149 - accuracy: 0.9952 - val_loss: 0.0351 - val_accuracy: 0.9924\n"
          ]
        }
      ]
    },
    {
      "cell_type": "code",
      "metadata": {
        "colab": {
          "base_uri": "https://localhost:8080/"
        },
        "id": "RO23DUJR-UXs",
        "outputId": "196d2989-821b-48d3-ff5b-0ac0f708f22a"
      },
      "source": [
        "model.summary()"
      ],
      "execution_count": null,
      "outputs": [
        {
          "output_type": "stream",
          "name": "stdout",
          "text": [
            "Model: \"sequential_10\"\n",
            "_________________________________________________________________\n",
            "Layer (type)                 Output Shape              Param #   \n",
            "=================================================================\n",
            "conv2d_20 (Conv2D)           (None, 26, 26, 32)        320       \n",
            "_________________________________________________________________\n",
            "max_pooling2d_20 (MaxPooling (None, 13, 13, 32)        0         \n",
            "_________________________________________________________________\n",
            "conv2d_21 (Conv2D)           (None, 11, 11, 16)        4624      \n",
            "_________________________________________________________________\n",
            "max_pooling2d_21 (MaxPooling (None, 5, 5, 16)          0         \n",
            "_________________________________________________________________\n",
            "flatten_10 (Flatten)         (None, 400)               0         \n",
            "_________________________________________________________________\n",
            "simple_quadratic_10 (SimpleQ (None, 128)               102528    \n",
            "_________________________________________________________________\n",
            "dropout_10 (Dropout)         (None, 128)               0         \n",
            "_________________________________________________________________\n",
            "dense_10 (Dense)             (None, 10)                1290      \n",
            "=================================================================\n",
            "Total params: 108,762\n",
            "Trainable params: 108,762\n",
            "Non-trainable params: 0\n",
            "_________________________________________________________________\n"
          ]
        }
      ]
    },
    {
      "cell_type": "code",
      "metadata": {
        "colab": {
          "base_uri": "https://localhost:8080/",
          "height": 282
        },
        "id": "z20BiLEL4ced",
        "outputId": "3ef82212-9328-4329-a3fd-3e1491dff777"
      },
      "source": [
        "plt.plot(history.history['accuracy'])\n",
        "plt.plot(history.history['val_accuracy'])"
      ],
      "execution_count": null,
      "outputs": [
        {
          "output_type": "execute_result",
          "data": {
            "text/plain": [
              "[<matplotlib.lines.Line2D at 0x7fe886b784d0>]"
            ]
          },
          "metadata": {},
          "execution_count": 37
        },
        {
          "output_type": "display_data",
          "data": {
            "image/png": "[encoded data removed]",
            "text/plain": [
              "<Figure size 432x288 with 1 Axes>"
            ]
          },
          "metadata": {
            "needs_background": "light"
          }
        }
      ]
    },
    {
      "cell_type": "code",
      "metadata": {
        "colab": {
          "base_uri": "https://localhost:8080/",
          "height": 282
        },
        "id": "5clBtvJ9NIPp",
        "outputId": "55391cba-d8b2-4e9b-baf6-063dca3d15b0"
      },
      "source": [
        "plt.plot(history.history['loss'])\n",
        "plt.plot(history.history['val_loss'])"
      ],
      "execution_count": null,
      "outputs": [
        {
          "output_type": "execute_result",
          "data": {
            "text/plain": [
              "[<matplotlib.lines.Line2D at 0x7fe886ae0ad0>]"
            ]
          },
          "metadata": {},
          "execution_count": 38
        },
        {
          "output_type": "display_data",
          "data": {
            "image/png": "[encoded data removed]",
            "text/plain": [
              "<Figure size 432x288 with 1 Axes>"
            ]
          },
          "metadata": {
            "needs_background": "light"
          }
        }
      ]
    },
    {
      "cell_type": "code",
      "metadata": {
        "colab": {
          "base_uri": "https://localhost:8080/"
        },
        "id": "x_fPTLFd4_Dp",
        "outputId": "4d653643-715d-403d-e197-a17d3dcc3d1b"
      },
      "source": [
        "history=model.fit(x_train, y_train, epochs=4,validation_data=(x_test,y_test))"
      ],
      "execution_count": null,
      "outputs": [
        {
          "output_type": "stream",
          "name": "stdout",
          "text": [
            "Epoch 1/4\n",
            "1875/1875 [==============================] - 40s 21ms/step - loss: 0.0108 - accuracy: 0.9965 - val_loss: 0.0357 - val_accuracy: 0.9914\n",
            "Epoch 2/4\n",
            "1875/1875 [==============================] - 40s 22ms/step - loss: 0.0090 - accuracy: 0.9970 - val_loss: 0.0269 - val_accuracy: 0.9935\n",
            "Epoch 3/4\n",
            "1875/1875 [==============================] - 40s 21ms/step - loss: 0.0092 - accuracy: 0.9971 - val_loss: 0.0295 - val_accuracy: 0.9919\n",
            "Epoch 4/4\n",
            "1875/1875 [==============================] - 40s 21ms/step - loss: 0.0088 - accuracy: 0.9970 - val_loss: 0.0302 - val_accuracy: 0.9931\n"
          ]
        }
      ]
    }
  ]
}